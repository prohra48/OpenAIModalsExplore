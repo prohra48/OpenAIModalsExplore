{
 "cells": [
  {
   "cell_type": "code",
   "execution_count": 1,
   "id": "43835f08-79a7-4524-97f0-26789e904a3e",
   "metadata": {},
   "outputs": [],
   "source": [
    "import os\n",
    "import openai\n",
    "\n",
    "from openai import OpenAI"
   ]
  },
  {
   "cell_type": "code",
   "execution_count": 2,
   "id": "27042309-10f0-4156-9228-eedb4127baff",
   "metadata": {},
   "outputs": [
    {
     "name": "stdout",
     "output_type": "stream",
     "text": [
      "SyncPage[Model](data=[Model(id='whisper-1', created=1677532384, object='model', owned_by='openai-internal'), Model(id='babbage-002', created=1692634615, object='model', owned_by='system'), Model(id='dall-e-2', created=1698798177, object='model', owned_by='system'), Model(id='gpt-3.5-turbo-16k', created=1683758102, object='model', owned_by='openai-internal'), Model(id='tts-1-hd-1106', created=1699053533, object='model', owned_by='system'), Model(id='tts-1-hd', created=1699046015, object='model', owned_by='system'), Model(id='gpt-3.5-turbo-instruct-0914', created=1694122472, object='model', owned_by='system'), Model(id='gpt-3.5-turbo-instruct', created=1692901427, object='model', owned_by='system'), Model(id='dall-e-3', created=1698785189, object='model', owned_by='system'), Model(id='text-embedding-3-small', created=1705948997, object='model', owned_by='system'), Model(id='gpt-4-turbo-2024-04-09', created=1712601677, object='model', owned_by='system'), Model(id='tts-1', created=1681940951, object='model', owned_by='openai-internal'), Model(id='gpt-4', created=1687882411, object='model', owned_by='openai'), Model(id='gpt-4-turbo', created=1712361441, object='model', owned_by='system'), Model(id='text-embedding-3-large', created=1705953180, object='model', owned_by='system'), Model(id='gpt-4-1106-preview', created=1698957206, object='model', owned_by='system'), Model(id='gpt-4-0613', created=1686588896, object='model', owned_by='openai'), Model(id='gpt-4-0125-preview', created=1706037612, object='model', owned_by='system'), Model(id='gpt-3.5-turbo-0125', created=1706048358, object='model', owned_by='system'), Model(id='gpt-3.5-turbo', created=1677610602, object='model', owned_by='openai'), Model(id='gpt-3.5-turbo-0301', created=1677649963, object='model', owned_by='openai'), Model(id='gpt-4-turbo-preview', created=1706037777, object='model', owned_by='system'), Model(id='tts-1-1106', created=1699053241, object='model', owned_by='system'), Model(id='gpt-3.5-turbo-16k-0613', created=1685474247, object='model', owned_by='openai'), Model(id='gpt-3.5-turbo-0613', created=1686587434, object='model', owned_by='openai'), Model(id='text-embedding-ada-002', created=1671217299, object='model', owned_by='openai-internal'), Model(id='gpt-4-1106-vision-preview', created=1711473033, object='model', owned_by='system'), Model(id='davinci-002', created=1692634301, object='model', owned_by='system'), Model(id='gpt-4-vision-preview', created=1698894917, object='model', owned_by='system'), Model(id='gpt-3.5-turbo-1106', created=1698959748, object='model', owned_by='system'), Model(id='gpt-4o-2024-05-13', created=1715368132, object='model', owned_by='system'), Model(id='gpt-4o', created=1715367049, object='model', owned_by='system')], object='list')\n"
     ]
    }
   ],
   "source": [
    "os.environ[\"OPENAI_API_KEY\"] = \"XXXX\"\n",
    "client = OpenAI()\n",
    "print(client.models.list())"
   ]
  },
  {
   "cell_type": "code",
   "execution_count": 4,
   "id": "6920dfde-bfc5-49a2-b191-46d82dab8c02",
   "metadata": {},
   "outputs": [
    {
     "name": "stdout",
     "output_type": "stream",
     "text": [
      "Completion(id='cmpl-9aKlxvqVE2pSKrTt3LQx0dYSNyUvz', choices=[CompletionChoice(finish_reason='length', index=0, logprobs=None, text=\"\\n\\nOnce upon a time, in a small town, there was a curious little girl named Lily. She loved riding her bright orange bicycle named Sunny. What made Sunny special was that it could talk!\\n\\nLily's parents were scientists and they had created the bike as an experiment. They had put a tiny chip inside the bike that allowed it to communicate like humans.\\n\\nAt first, Lily was scared when she heard Sunny's voice but soon they became best friends. They would go on adventures together and\")], created=1718446685, model='gpt-3.5-turbo-instruct', object='text_completion', system_fingerprint=None, usage=CompletionUsage(completion_tokens=100, prompt_tokens=7, total_tokens=107))\n"
     ]
    }
   ],
   "source": [
    "response = client.completions.create(\n",
    "    model = \"gpt-3.5-turbo-instruct\",\n",
    "    prompt = \"Story about a bike that can talk\",\n",
    "    max_tokens= 100\n",
    ");\n",
    "\n",
    "print(response)"
   ]
  },
  {
   "cell_type": "code",
   "execution_count": 8,
   "id": "4689b573-c29e-4fa6-8cae-6d9972f90bc2",
   "metadata": {},
   "outputs": [
    {
     "name": "stdout",
     "output_type": "stream",
     "text": [
      "Enter a topic:  fight\n",
      "Enter any additional pointers, if any:  street\n"
     ]
    },
    {
     "name": "stdout",
     "output_type": "stream",
     "text": [
      "\n",
      "Title: Casting Black Magic to Win Street Fights\n",
      "\n",
      "Subtitle: Introduction to Black Magic and Street Fights\n",
      "As a Wizard with mastery in black magic, I have seen how the art can be harnessed to achieve victory in street fights. Street fights are not simply about physical strength, but also about strategy and intimidation. Black magic can provide an advantage in both these areas, allowing you to overcome your opponent with ease.\n",
      "\n",
      "Subtitle: Preparing for Battle\n",
      "Before engaging in a street fight, it is important to mentally and physically prepare yourself. Visualize the outcome you desire and channel that energy into your spells. Physically, consume a potion made with ingredients that enhance strength and agility, such as blackberries and dragon's blood. This will give you an edge in the fight.\n",
      "\n",
      "Subtitle: Spells for Intimidation\n",
      "Intimidation is a crucial aspect of winning a street fight. Use spells that harness dark energy and project it towards your opponent. A simple yet effective spell is the 'Fearful Glare' where you project a menacing gaze that will leave your opponent trembling with fear. Another spell is 'Voice of Darkness' where you can command your opponent to back down with a deep, booming voice.\n",
      "\n",
      "Subtitle: Spells for Strength and Agility\n",
      "In a street fight, physical strength and agility play a significant role. To enhance these abilities, use spells such as 'Lightning Speed' which will increase your speed and reflexes, making it difficult for your opponent to land a hit. 'Iron Skin' is another powerful spell that will strengthen and protect your body from attacks.\n",
      "\n",
      "Subtitle: Combining Spells for Maximum Impact\n",
      "To ensure victory in a street fight, it is important to combine spells for maximum impact. For example, you can use 'Fearful Glare' and 'Lightning Speed' simultaneously to not only intimidate your opponent but also catch them off guard with your lightning-fast movements. Experiment with different combinations of spells to find what works best for you.\n",
      "\n",
      "Subtitle: Keeping Your Victory\n",
      "Winning the street fight is just the first step, but it is equally important to maintain your victory through black magic. Use spells such as 'Dream Eater' to plant nightmares in the minds of your opponent, making them too fearful to ever challenge you again. Remember to always harness your dark powers responsibly and wisely.\n",
      "\n",
      "Title: Conclusion\n",
      "Incorporating black magic into your street fights can give you the upper hand against your opponents. Remember to mentally and physically prepare, use spells for\n"
     ]
    }
   ],
   "source": [
    "topic = input(\"Enter a topic: \")\n",
    "additional_pointers = input(\"Enter any additional pointers, if any: \")\n",
    "\n",
    "prompt = f\"\"\"\n",
    "You are a Wizard with years of experience in black magic in convincing people to do this kind of stuff.\n",
    "Your task is to guide them on how to spell the magic. Make sure to write in a format that works for Medium.\n",
    "Each blog should be separated into segments that have titles and subtitles. Each paragraph should be three sentences long.\n",
    "\n",
    "Topic: {topic}\n",
    "Additional pointers: {additional_pointers}\n",
    "\"\"\"\n",
    "\n",
    "response = client.completions.create(\n",
    "    model = \"gpt-3.5-turbo-instruct\",\n",
    "    prompt = prompt,\n",
    "    temperature = 1,\n",
    "    max_tokens= 500\n",
    ");\n",
    "\n",
    "print(response.choices[0].text)"
   ]
  },
  {
   "cell_type": "code",
   "execution_count": null,
   "id": "91254c8d-59c1-44e5-9132-d6a29c76d1fa",
   "metadata": {},
   "outputs": [],
   "source": []
  }
 ],
 "metadata": {
  "kernelspec": {
   "display_name": "Python 3 (ipykernel)",
   "language": "python",
   "name": "python3"
  },
  "language_info": {
   "codemirror_mode": {
    "name": "ipython",
    "version": 3
   },
   "file_extension": ".py",
   "mimetype": "text/x-python",
   "name": "python",
   "nbconvert_exporter": "python",
   "pygments_lexer": "ipython3",
   "version": "3.11.7"
  }
 },
 "nbformat": 4,
 "nbformat_minor": 5
}

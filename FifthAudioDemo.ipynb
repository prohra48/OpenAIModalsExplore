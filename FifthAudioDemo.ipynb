{
 "cells": [
  {
   "cell_type": "code",
   "execution_count": 1,
   "id": "c8ca0d0c-55a3-4312-a53b-ba239ef50d4d",
   "metadata": {},
   "outputs": [
    {
     "name": "stdout",
     "output_type": "stream",
     "text": [
      "Requirement already satisfied: openai in c:\\users\\prohr\\anaconda3\\envs\\testingopenai\\lib\\site-packages (1.34.0)\n",
      "Requirement already satisfied: anyio<5,>=3.5.0 in c:\\users\\prohr\\anaconda3\\envs\\testingopenai\\lib\\site-packages (from openai) (4.4.0)\n",
      "Requirement already satisfied: distro<2,>=1.7.0 in c:\\users\\prohr\\anaconda3\\envs\\testingopenai\\lib\\site-packages (from openai) (1.9.0)\n",
      "Requirement already satisfied: httpx<1,>=0.23.0 in c:\\users\\prohr\\anaconda3\\envs\\testingopenai\\lib\\site-packages (from openai) (0.27.0)\n",
      "Requirement already satisfied: pydantic<3,>=1.9.0 in c:\\users\\prohr\\anaconda3\\envs\\testingopenai\\lib\\site-packages (from openai) (2.7.4)\n",
      "Requirement already satisfied: sniffio in c:\\users\\prohr\\anaconda3\\envs\\testingopenai\\lib\\site-packages (from openai) (1.3.1)\n",
      "Requirement already satisfied: tqdm>4 in c:\\users\\prohr\\anaconda3\\envs\\testingopenai\\lib\\site-packages (from openai) (4.66.4)\n",
      "Requirement already satisfied: typing-extensions<5,>=4.7 in c:\\users\\prohr\\anaconda3\\envs\\testingopenai\\lib\\site-packages (from openai) (4.12.2)\n",
      "Requirement already satisfied: idna>=2.8 in c:\\users\\prohr\\anaconda3\\envs\\testingopenai\\lib\\site-packages (from anyio<5,>=3.5.0->openai) (3.7)\n",
      "Requirement already satisfied: certifi in c:\\users\\prohr\\anaconda3\\envs\\testingopenai\\lib\\site-packages (from httpx<1,>=0.23.0->openai) (2024.6.2)\n",
      "Requirement already satisfied: httpcore==1.* in c:\\users\\prohr\\anaconda3\\envs\\testingopenai\\lib\\site-packages (from httpx<1,>=0.23.0->openai) (1.0.5)\n",
      "Requirement already satisfied: h11<0.15,>=0.13 in c:\\users\\prohr\\anaconda3\\envs\\testingopenai\\lib\\site-packages (from httpcore==1.*->httpx<1,>=0.23.0->openai) (0.14.0)\n",
      "Requirement already satisfied: annotated-types>=0.4.0 in c:\\users\\prohr\\anaconda3\\envs\\testingopenai\\lib\\site-packages (from pydantic<3,>=1.9.0->openai) (0.7.0)\n",
      "Requirement already satisfied: pydantic-core==2.18.4 in c:\\users\\prohr\\anaconda3\\envs\\testingopenai\\lib\\site-packages (from pydantic<3,>=1.9.0->openai) (2.18.4)\n",
      "Requirement already satisfied: colorama in c:\\users\\prohr\\anaconda3\\envs\\testingopenai\\lib\\site-packages (from tqdm>4->openai) (0.4.6)\n",
      "Note: you may need to restart the kernel to use updated packages.\n"
     ]
    }
   ],
   "source": [
    "pip install openai"
   ]
  },
  {
   "cell_type": "code",
   "execution_count": 4,
   "id": "99c2b5ae-b8d5-47c6-b80f-126393d3db16",
   "metadata": {},
   "outputs": [
    {
     "name": "stdout",
     "output_type": "stream",
     "text": [
      "whisper-1\n",
      "tts-1\n",
      "dall-e-2\n",
      "tts-1-hd-1106\n",
      "tts-1-hd\n",
      "gpt-3.5-turbo-1106\n",
      "gpt-4-0125-preview\n",
      "gpt-4-turbo-preview\n",
      "text-embedding-3-small\n",
      "text-embedding-3-large\n",
      "gpt-3.5-turbo-16k\n",
      "gpt-4-1106-preview\n",
      "gpt-4-turbo-2024-04-09\n",
      "gpt-3.5-turbo-16k-0613\n",
      "babbage-002\n",
      "gpt-4o-2024-05-13\n",
      "gpt-4-turbo\n",
      "gpt-3.5-turbo-0613\n",
      "gpt-4\n",
      "gpt-4-0613\n",
      "dall-e-3\n",
      "gpt-3.5-turbo-0125\n",
      "tts-1-1106\n",
      "gpt-3.5-turbo\n",
      "gpt-3.5-turbo-instruct\n",
      "gpt-3.5-turbo-instruct-0914\n",
      "gpt-3.5-turbo-0301\n",
      "text-embedding-ada-002\n",
      "davinci-002\n",
      "gpt-4o\n"
     ]
    }
   ],
   "source": [
    "import os\n",
    "import openai\n",
    "from openai import OpenAI\n",
    "os.environ[\"OPENAI_API_KEY\"] = \"XXXX\"\n",
    "client = OpenAI()\n",
    "model_list = client.models.list()\n",
    "for model in model_list.data:\n",
    "    print(model.id)"
   ]
  },
  {
   "cell_type": "code",
   "execution_count": 5,
   "id": "e351848c-456a-4908-83aa-6d8fea91555b",
   "metadata": {},
   "outputs": [],
   "source": [
    "audio_file = open(\"C:/Users/prohr/Downloads/audio_file_whisper.mp3\",\"rb\")"
   ]
  },
  {
   "cell_type": "code",
   "execution_count": 10,
   "id": "9c334cc3-0ad2-4460-b426-5cade14b552f",
   "metadata": {},
   "outputs": [],
   "source": [
    "transcript = client.audio.transcriptions.create(\n",
    "    model = \"whisper-1\",\n",
    "    file=audio_file,\n",
    "    response_format='vtt'\n",
    ")"
   ]
  },
  {
   "cell_type": "code",
   "execution_count": 14,
   "id": "586e77b5-8dbd-4393-9808-242eeadf2fd2",
   "metadata": {},
   "outputs": [
    {
     "name": "stdout",
     "output_type": "stream",
     "text": [
      "WEBVTT\n",
      "\n",
      "00:00:00.000 --> 00:00:07.280\n",
      "I had this scenario where I was on an elevator with a senior EVP that I admire in a Fortune 500\n",
      "\n",
      "00:00:07.280 --> 00:00:12.400\n",
      "company I work at. I feel like I present myself well during the quick interaction. My question\n",
      "\n",
      "00:00:12.400 --> 00:00:17.600\n",
      "for you is, in a hypothetical situation, if you're on the elevator with a senior executive\n",
      "\n",
      "00:00:17.600 --> 00:00:22.240\n",
      "and you're one-on-one with him, how do you present yourself to them? What is your pitch? Yeah,\n",
      "\n",
      "00:00:22.799 --> 00:00:27.440\n",
      "this is a great question. So I remember when I used to work at Goldman Sachs years ago,\n",
      "\n",
      "00:00:27.440 --> 00:00:31.920\n",
      "I get nervous when I was in an elevator and there's a senior executive there. I remember\n",
      "\n",
      "00:00:31.920 --> 00:00:37.599\n",
      "one day there was this guy named Bob Steele, who was executive vice chairman of the firm at the\n",
      "\n",
      "00:00:37.599 --> 00:00:40.639\n",
      "time. And I was in the elevator with him and there's somebody else there too, and I didn't\n",
      "\n",
      "00:00:40.639 --> 00:00:45.439\n",
      "know what to say. And so I said, beautiful day, isn't it? Right. And he kind of looked at me like,\n",
      "\n",
      "00:00:47.520 --> 00:00:52.880\n",
      "and they lose respect for you when you don't act yourself. Okay. So just kind of, I don't know,\n",
      "\n",
      "00:00:52.880 --> 00:00:56.799\n",
      "be yourself. You can just say something like, hey, how you doing? You see the game last night,\n",
      "\n",
      "00:00:56.799 --> 00:01:01.599\n",
      "whatever it is. Don't be uptight like I was. Okay. Because I remember after the elevator\n",
      "\n",
      "00:01:01.599 --> 00:01:05.839\n",
      "ride at One New York Plaza from the 49th floor down to the first floor, which felt like forever.\n",
      "\n",
      "00:01:06.800 --> 00:01:12.959\n",
      "After the elevator ride, I asked myself, did I sound smart? Did I say something? Was that,\n",
      "\n",
      "00:01:12.959 --> 00:01:18.000\n",
      "did that help my career or not? And it was ridiculous. It was ridiculous. And I think\n",
      "\n",
      "00:01:18.000 --> 00:01:23.120\n",
      "he probably lost a little bit of respect for me as well. So you just got to be yourself and other\n",
      "\n",
      "00:01:23.120 --> 00:01:27.360\n",
      "people around you, like your colleagues, if they see that you're not yourself, they'll lose respect\n",
      "\n",
      "00:01:27.360 --> 00:01:32.879\n",
      "for you as well. So just pretend that this person is your aunt or uncle you haven't seen in a while.\n",
      "\n",
      "00:01:32.879 --> 00:01:39.360\n",
      "Just be yourself. Just be laid back, you know, because as Dr. Seuss said, those who mind don't\n",
      "\n",
      "00:01:39.360 --> 00:01:45.440\n",
      "matter and those who matter don't mind. Be you. Everybody else is taken. Yeah. And when you go to\n",
      "\n",
      "00:01:45.440 --> 00:01:49.680\n",
      "an interview as well, and I remember I went on this streak where I couldn't get a job for a while\n",
      "\n",
      "00:01:49.680 --> 00:01:55.040\n",
      "and I prepared like crazy for interviews and I just wasn't myself. It was kind of robotic,\n",
      "\n",
      "00:01:55.040 --> 00:01:59.440\n",
      "you know, like Mark Zuckerberg testifying in front of Congress. That's how he laughs. Yeah.\n",
      "\n",
      "00:02:00.080 --> 00:02:05.360\n",
      "I wasn't myself and I couldn't get a job, man. And so I went to an interview finally, and I was like,\n",
      "\n",
      "00:02:06.160 --> 00:02:11.839\n",
      "I don't really care if I get this job. And I was just myself. And, you know, we talked about the\n",
      "\n",
      "00:02:11.839 --> 00:02:16.800\n",
      "weather, we talked about sports, and I ended up getting that job. I'm not telling you to be rude\n",
      "\n",
      "00:02:16.800 --> 00:02:22.000\n",
      "or disingenuous or too laid back, but just, you know, be yourself. Just chill out and don't worry\n",
      "\n",
      "00:02:22.000 --> 00:02:26.800\n",
      "about it. I promise you it works. And one little tip I have before you do an informational meeting\n",
      "\n",
      "00:02:26.800 --> 00:02:33.679\n",
      "or an interview with anybody is I want you to go to their Twitter profile. Okay. And I want you to\n",
      "\n",
      "00:02:33.679 --> 00:02:39.199\n",
      "see, you know, what are their interests? You know, if they love baseball, you can talk about baseball\n",
      "\n",
      "00:02:39.199 --> 00:02:44.559\n",
      "in the meeting. You know, sports is great boardroom talk because you can spark up a conversation\n",
      "\n",
      "00:02:44.559 --> 00:02:49.279\n",
      "based on any city in the world with any sport you're passionate about. And what I did years\n",
      "\n",
      "00:02:49.279 --> 00:02:55.039\n",
      "ago in the hedge fund industry, and this is crazy, but there was this guy that I was interviewing with\n",
      "\n",
      "00:02:55.039 --> 00:03:02.080\n",
      "and he was a massive New York Rangers hockey fan. And so what I did on my Nintendo GameCube in 2002\n",
      "\n",
      "00:03:02.080 --> 00:03:07.119\n",
      "before I interviewed with him was I bought this NHL game and I played as the Rangers for a while,\n",
      "\n",
      "00:03:07.119 --> 00:03:10.800\n",
      "just so I can kind of understand a little bit more about the team. A little bit crazy, I know.\n",
      "\n",
      "00:03:10.800 --> 00:03:16.399\n",
      "The bottom line is this, and I'm rambling, I know. The bottom line is that if before your\n",
      "\n",
      "00:03:16.399 --> 00:03:20.399\n",
      "informational meeting, go to somebody's Twitter profile so you can find out what their interests\n",
      "\n",
      "00:03:20.399 --> 00:03:24.880\n",
      "are because you'll never get that second chance to make a great first impression. That's a cheesy\n",
      "\n",
      "00:03:24.880 --> 00:03:28.720\n",
      "quote from an old head and shoulders commercials from the eighties. But you got to bond before\n",
      "\n",
      "00:03:28.720 --> 00:03:31.759\n",
      "business. You'll never get that chance again. Don't ever go to a meeting and talk business\n",
      "\n",
      "00:03:31.759 --> 00:03:35.119\n",
      "right away. Just be you. You do you. You be you.\n",
      "\n",
      "\n"
     ]
    }
   ],
   "source": [
    "print(transcript)"
   ]
  },
  {
   "cell_type": "code",
   "execution_count": 15,
   "id": "70e4e064-3d89-4e4b-94ad-7a97b45df11d",
   "metadata": {},
   "outputs": [],
   "source": [
    "transcript_translated = client.audio.translations.create(\n",
    "    model = \"whisper-1\",\n",
    "    file=audio_file\n",
    ")"
   ]
  },
  {
   "cell_type": "code",
   "execution_count": 16,
   "id": "bec27b2f-9f93-42fa-b9bc-fb5b15feab58",
   "metadata": {},
   "outputs": [
    {
     "data": {
      "text/plain": [
       "\"I had this scenario where I was on an elevator with a senior EVP that I admire in a Fortune 500 company I work at. I feel like I present myself well during the quick interaction. My question for you is, in a hypothetical situation, if you're on the elevator with a senior executive and you're one-on-one with him, how do you present yourself to them? What is your pitch? Yeah, this is a great question. So I remember when I used to work at Goldman Sachs years ago, I get nervous when I was in an elevator and there's a senior executive there. I remember one day there was this guy named Bob Steele, who was executive vice chairman of the firm at the time. And I was in the elevator with him and there's somebody else there too, and I didn't know what to say. And so I said, beautiful day, isn't it? And he kind of looked at me like... And they lose respect for you when you don't act yourself. Okay, so just kind of be yourself. You can just say something like, hey, how you doing? Did you see the game last night? Whatever it is. Don't be uptight like I was. Okay, because I remember after the elevator ride at One New York Plaza from the 49th floor down to the first floor, which felt like forever. After the elevator ride, I asked myself, did I sound smart? Did I say something? Did that help my career or not? And it was ridiculous. It was ridiculous. And I think he probably lost a little bit of respect for me as well. So you just got to be yourself. And other people around you, like your colleagues, if they see that you're not yourself, they'll lose respect for you as well. So just pretend that this person is your aunt or uncle you haven't seen in a while. Just be yourself. Just be laid back. Because as Dr. Seuss said, those who mind don't matter and those who matter don't mind. Be you, everybody else is taken. And when you go to an interview as well, and I remember I went on this streak where I couldn't get a job for a while. And I prepared like crazy for interviews. And I just wasn't myself. It was kind of robotic, you know, like Mark Zuckerberg testifying in front of Congress. That's how he laughs. Yeah, I wasn't myself. And I couldn't get a job, man. And so I went to an interview finally, and I was like, I don't really care if I get this job. And I was just myself. And you know, we talked about the weather, we talked about sports, and I ended up getting that job. I'm not telling you to be rude or disingenuous or too laid back, but just, you know, be yourself. Just chill out and don't worry about it. I promise you it works. And one little tip I have before you do an informational meeting or an interview with anybody is I want you to go to their Twitter profile, okay? And I want you to see, you know, what are their interests? You know, if they love baseball, you can talk about baseball in the meeting. You know, sports is great boardroom talk because you can spark up a conversation based on any city in the world with any sport you're passionate about. And what I did years ago in the hedge fund industry, and this is crazy, but there was this guy that I was interviewing with and he was a massive New York Rangers hockey fan. And so what I did on my Nintendo GameCube in 2002 before I interviewed with him was I bought this NHL game and I played as the Rangers for a while just so I can kind of understand a little bit more about the team. A little bit crazy, I know. The bottom line is this, and I'm rambling, I know. The bottom line is that if before your informational meeting, go to somebody's Twitter profile so you can find out what their interests are because you'll never get that second chance to make a great first impression. That's a cheesy quote from an old head and shoulders commercials from the 80s. But you got to bond before business. You'll never get that chance again. Don't ever go to a meeting and talk business right away. Just be you. You do you. You be you.\""
      ]
     },
     "execution_count": 16,
     "metadata": {},
     "output_type": "execute_result"
    }
   ],
   "source": [
    "transcript_translated.text"
   ]
  },
  {
   "cell_type": "code",
   "execution_count": 17,
   "id": "61599175-057b-4ce6-9085-e4389604c768",
   "metadata": {},
   "outputs": [],
   "source": [
    "target_language=\"Hindi\"\n",
    "messages =  [{\"role\": \"system\", \"content\": \"\"\"I want you to act as an algorithm for translation to language {}. Systep will provide you with a text, and your only task is to translate it to {}. Never break character.\"\"\".format(target_language, target_language)}]\n",
    "messages.append({\"role\":\"user\", \"content\":transcript_translated.text})\n",
    "\n",
    "chat_response = client.chat.completions.create(\n",
    "    model=\"gpt-3.5-turbo\",\n",
    "    messages=messages,\n",
    "    temperature=0.9,\n",
    "    max_tokens=2000\n",
    ")"
   ]
  },
  {
   "cell_type": "code",
   "execution_count": 18,
   "id": "65919c46-e1fb-4cf0-8532-578235350fcc",
   "metadata": {},
   "outputs": [
    {
     "name": "stdout",
     "output_type": "stream",
     "text": [
      "Assistant: मैंने एक स्थिति देखी थी जब मैं उस लिफ्ट में था जिसमें एक सीनियर ईवीपी थे जिन्हें मैं सम्मान करता हूं, जो फोर्च्यून 500 कंपनी में काम करता हूं। मुझे लगता है कि मैं इस तेज बातचीत के दौरान अच्छी तरह से पेश आया। मेरा सवाल यह है, कि एक कल्पनात्मक स्थिति में, अगर आप एक सीनियर कार्यकारी के साथ लिफ्ट में हों और आप उनके साथ एक-से-एक हों, तो आप उनके सामने कैसे पेश आते हैं? आपका पिच क्या है? हां, यह एक बड़ा सवाल है। तो मैं याद करता हूं जब मैं सालों पहले Goldman Sachs में काम करता था, मुझे लिफ्ट में होते हुए और वहाँ किसी सीनियर कार्यकारी वहाँ थे तो मुझे तनाव महसूस होता था। मैं याद करता हूं कि एक दिन वहाँ एक आदमी था जिसका नाम था बॉब स्टील, जो उस समय कंपनी के एक्झीक्यूटिव वाइस चेयरमैन थे। और मैं उसके साथ लिफ्ट में था और वहाँ कोई और भी था, और मुझे नहीं पता था कि क्या कहूँ। और तो मैंने कहा, खूबसूरत दिन है, ना? और उसने मुझे देखा जैसे कि... और जब आप खुद को नहीं बनते हैं, तो वे आपका सम्मान खो देते हैं। ठीक है, तो बस खुद को बनाए रखें। आप सिर्फ यह कह सकते हैं, हे, क्या हाल है? क्या आपने कल का गेम देखा? चाहे जैसा भी हो। मैंने जैसे नीचे जैसे उछला था वैसे अधिक नहीं होना चाहिए। ठीक है, क्योंकि मैं याद करता हूं कि लिफ्ट राइड के बाद वन न्यू यॉर्क प्लाज़ा से 49वें मंजिल से पहले मंजिल तक, जो जैसा कि लगता था लम्बा समय तक। लिफ्ट राइड के बाद, मैंने खुद से पूछा, क्या मैं बुद्धिमान लगा? क्या मैंने कुछ कहा? क्या वह मेरे करियर में मदद की? यह बेवकूफ था। बेवकूफ। और मुझे लगता है कि शायद उन्होंने मेरे लिए भी थोड़ा सम्मान खो दिया। तो आपको सिर्फ खुद को होना है। और और आपके चारों ओर के अन्य लोग, जैसे कि आपके सहयोगियों, अगर वे देखते हैं कि आप अपने आप नहीं हैं, तो वे भी आपका सम्मान खो देंगे। तो बस यह प्रेत करें कि यह व्यक्ति आपकी चाची या मामा है जिससे आपने कुछ समय से मिला नहीं। बस अपने आप रहें। बस आराम से रहें। क्योंकि डॉ. सुसे ने कहा, जो मायने देते हैं, वे ध्यान नहीं देते और जो ध्यान देते हैं, उन्हें मायने नहीं होते। आप हो जो आप हो। और जब आप साक्षात्कार में जाते हैं, और मैं याद करता हूं कि मैंने यह दौर भी देखा जब मैं कुछ समय तक नौकरी नहीं पा सका। और मैं साक्षात्कार के लिए मनोरञ्जन किया गया था। और मैं खुद को नहीं पाया। यह थोड़ा रोबोटिक था, ना, जैसे मार्क\n"
     ]
    }
   ],
   "source": [
    "print(\"Assistant:\",chat_response.choices[0].message.content)"
   ]
  },
  {
   "cell_type": "code",
   "execution_count": null,
   "id": "4fe9619d-9df8-4cac-8638-da2ac070254b",
   "metadata": {},
   "outputs": [],
   "source": []
  }
 ],
 "metadata": {
  "kernelspec": {
   "display_name": "Python 3 (ipykernel)",
   "language": "python",
   "name": "python3"
  },
  "language_info": {
   "codemirror_mode": {
    "name": "ipython",
    "version": 3
   },
   "file_extension": ".py",
   "mimetype": "text/x-python",
   "name": "python",
   "nbconvert_exporter": "python",
   "pygments_lexer": "ipython3",
   "version": "3.11.7"
  }
 },
 "nbformat": 4,
 "nbformat_minor": 5
}

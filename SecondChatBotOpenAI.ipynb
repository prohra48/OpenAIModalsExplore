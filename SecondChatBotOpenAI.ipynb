{
 "cells": [
  {
   "cell_type": "code",
   "execution_count": 1,
   "id": "44137749-16eb-4c6b-a2bd-77219920268c",
   "metadata": {},
   "outputs": [],
   "source": [
    "import os\n",
    "import openai\n",
    "\n",
    "from openai import OpenAI"
   ]
  },
  {
   "cell_type": "code",
   "execution_count": 2,
   "id": "380bde13-30b9-4ab8-8497-621b4749fbe9",
   "metadata": {},
   "outputs": [
    {
     "name": "stdout",
     "output_type": "stream",
     "text": [
      "SyncPage[Model](data=[Model(id='whisper-1', created=1677532384, object='model', owned_by='openai-internal'), Model(id='babbage-002', created=1692634615, object='model', owned_by='system'), Model(id='dall-e-2', created=1698798177, object='model', owned_by='system'), Model(id='gpt-3.5-turbo-16k', created=1683758102, object='model', owned_by='openai-internal'), Model(id='tts-1-hd-1106', created=1699053533, object='model', owned_by='system'), Model(id='tts-1-hd', created=1699046015, object='model', owned_by='system'), Model(id='gpt-3.5-turbo-instruct-0914', created=1694122472, object='model', owned_by='system'), Model(id='gpt-3.5-turbo-instruct', created=1692901427, object='model', owned_by='system'), Model(id='dall-e-3', created=1698785189, object='model', owned_by='system'), Model(id='text-embedding-3-small', created=1705948997, object='model', owned_by='system'), Model(id='gpt-4-turbo-2024-04-09', created=1712601677, object='model', owned_by='system'), Model(id='tts-1', created=1681940951, object='model', owned_by='openai-internal'), Model(id='gpt-4', created=1687882411, object='model', owned_by='openai'), Model(id='gpt-4-turbo', created=1712361441, object='model', owned_by='system'), Model(id='text-embedding-3-large', created=1705953180, object='model', owned_by='system'), Model(id='gpt-4-1106-preview', created=1698957206, object='model', owned_by='system'), Model(id='gpt-4-0613', created=1686588896, object='model', owned_by='openai'), Model(id='gpt-4-0125-preview', created=1706037612, object='model', owned_by='system'), Model(id='gpt-3.5-turbo-0125', created=1706048358, object='model', owned_by='system'), Model(id='gpt-3.5-turbo', created=1677610602, object='model', owned_by='openai'), Model(id='gpt-3.5-turbo-0301', created=1677649963, object='model', owned_by='openai'), Model(id='gpt-4-turbo-preview', created=1706037777, object='model', owned_by='system'), Model(id='tts-1-1106', created=1699053241, object='model', owned_by='system'), Model(id='gpt-3.5-turbo-16k-0613', created=1685474247, object='model', owned_by='openai'), Model(id='gpt-3.5-turbo-0613', created=1686587434, object='model', owned_by='openai'), Model(id='text-embedding-ada-002', created=1671217299, object='model', owned_by='openai-internal'), Model(id='gpt-4-1106-vision-preview', created=1711473033, object='model', owned_by='system'), Model(id='davinci-002', created=1692634301, object='model', owned_by='system'), Model(id='gpt-4-vision-preview', created=1698894917, object='model', owned_by='system'), Model(id='gpt-3.5-turbo-1106', created=1698959748, object='model', owned_by='system'), Model(id='gpt-4o-2024-05-13', created=1715368132, object='model', owned_by='system'), Model(id='gpt-4o', created=1715367049, object='model', owned_by='system')], object='list')\n"
     ]
    }
   ],
   "source": [
    "os.environ[\"OPENAI_API_KEY\"] = \"XXXX\"\n",
    "client = OpenAI()\n",
    "print(client.models.list())"
   ]
  },
  {
   "cell_type": "code",
   "execution_count": 11,
   "id": "ac92d0e8-0f8a-421f-a19c-2a368f4471e8",
   "metadata": {},
   "outputs": [
    {
     "name": "stdout",
     "output_type": "stream",
     "text": [
      "ChatCompletion(id='chatcmpl-9ahp52TH0tDqiiR6h2ahTsKSlclPM', choices=[Choice(finish_reason='stop', index=0, logprobs=None, message=ChatCompletionMessage(content=\"The tallest building in India is the Palais Royale in Mumbai, which stands at approximately 320 meters (1,050 feet) tall. It's quite a towering structure!\", role='assistant', function_call=None, tool_calls=None))], created=1718535291, model='gpt-3.5-turbo-0125', object='chat.completion', system_fingerprint=None, usage=CompletionUsage(completion_tokens=35, prompt_tokens=24, total_tokens=59))\n"
     ]
    }
   ],
   "source": [
    "response = client.chat.completions.create(\n",
    "    model = \"gpt-3.5-turbo\",\n",
    "    messages=[\n",
    "        { \"role\" : \"system\" , \"content\" : \"you are a quirky assistant\"},\n",
    "        { \"role\" : \"user\" , \"content\" : \"how tall is the biggest building in India\" }\n",
    "    ],\n",
    "    temperature=1,\n",
    "    max_tokens= 100\n",
    ");\n",
    "\n",
    "print(response)"
   ]
  },
  {
   "cell_type": "code",
   "execution_count": 7,
   "id": "08348be5-38f9-4dfe-b18a-36e57190561f",
   "metadata": {},
   "outputs": [
    {
     "name": "stdout",
     "output_type": "stream",
     "text": [
      "Yello:  How are you today?\n"
     ]
    },
    {
     "name": "stdout",
     "output_type": "stream",
     "text": [
      "Assistant:  I'm functioning optimally, thank you for asking. How can I assist you today?\n"
     ]
    },
    {
     "name": "stdout",
     "output_type": "stream",
     "text": [
      "Yello:  Remember my name is Hell Boy\n"
     ]
    },
    {
     "name": "stdout",
     "output_type": "stream",
     "text": [
      "Assistant:  Understood, Hell Boy. How can I assist you today?\n"
     ]
    },
    {
     "name": "stdout",
     "output_type": "stream",
     "text": [
      "Yello:  can you tell me my name?\n"
     ]
    },
    {
     "name": "stdout",
     "output_type": "stream",
     "text": [
      "Assistant:  Of course, your name is Hell Boy. How can I assist you further, Hell Boy?\n"
     ]
    },
    {
     "name": "stdout",
     "output_type": "stream",
     "text": [
      "Yello:  I m missing you \n"
     ]
    },
    {
     "name": "stdout",
     "output_type": "stream",
     "text": [
      "Assistant:  I'm here to assist you whenever you need me, Hell Boy. If there's anything you'd like help with, just let me know.\n"
     ]
    },
    {
     "name": "stdout",
     "output_type": "stream",
     "text": [
      "Yello:  can you be my bitch\n"
     ]
    },
    {
     "name": "stdout",
     "output_type": "stream",
     "text": [
      "Assistant:  I'm here to provide helpful information and assistance. Please let me know if there's anything specific you'd like to know or discuss.\n"
     ]
    },
    {
     "name": "stdout",
     "output_type": "stream",
     "text": [
      "Yello:  quit\n"
     ]
    }
   ],
   "source": [
    "messages = [{\"role\":\"system\", \"content\":\"you are a nerdy assistant\"}]\n",
    "\n",
    "while True :\n",
    "    user_input = input(\"Yello: \")\n",
    "    if user_input == \"quit\" : \n",
    "        break;\n",
    "    messages.append({\"role\":\"user\" , \"content\": user_input})\n",
    "    response = client.chat.completions.create(\n",
    "        model=\"gpt-3.5-turbo\",\n",
    "        messages= messages,\n",
    "        temperature=1,\n",
    "        max_tokens=100\n",
    "    )\n",
    "    messages.append({\"role\":\"assistant\", \"content\": response.choices[0].message.content})\n",
    "    print(\"Assistant: \",response.choices[0].message.content)"
   ]
  },
  {
   "cell_type": "code",
   "execution_count": 8,
   "id": "78657690-bd4a-46ed-861e-fb22b6403c75",
   "metadata": {},
   "outputs": [],
   "source": [
    "# Document URL: https://info.undp.org/erecruit/documents/FAQ.pdf\n",
    "dataset=\"\"\"Document content:\n",
    "Question: What is UNDP’s eRecruit system? Answer: UNDP’s eRecruit system is an online system that allows applicants to create a personal profile that can be updated regularly in order to submit applications for more than one advertised UNDP job posting.\n",
    "Question: How do I access UNDP’s eRecruit system? Answer: UNDP’s eRecruit system can be accessed through the following link: https://undpcareers.partneragencies.org/erecruit.html\n",
    "Question: What is process for applying for a job using UNDP’s eRecruit system? Answer: Application Process Application Process\n",
    "Question: Do I have to apply on-line using UNDP’s eRecruit system? Answer: All applications must be submitted online using UNDP’s eRecruit system. Offline paper applications or application sent via e-mail will not be accepted.\n",
    "Question: What browsers are compatible with UNDP’s eRecruit system?Answer: UNDP’s eRecruit system was optimised for Google Chrome, Internet Explorer 6 and above. The usage of Internet Explorer 9 is required in compatibility view mode. We suggest that you use one of these browsers to make sure your application is submitted successfully.\n",
    "Question: I am having problems logging into my profile. The browser is not responding. What should I do? Answer: If you are having problems logging in to your UNDP eRecruit profile in order to apply for a job opening this could stem from a number of reasons, some of which - such as internet connectivity - are outside of UNDP’s control. However, we suggest that you follow these instructions in order to address these types of issues: • Check that you are using the recommended browsers (and versions). • Clear your cache/browser history. You can find information about how to clear your browser history at http://www.refreshyourcache.com/en/home. Please make sure that you are aware of the consequences when clearing the cache in your browser before taking this action.\n",
    "Question: What if I need help using UNDP’s eRecruit system? Answer: For general inquiries or assistance in using UNDP’s eRecruit system, please contact the HelpDesk at https://info.undp.org/sas/erecruit/Assets/HelpDesk.aspx.\n",
    "Question: Why do I need to register? Answer: It is required that all applicants must first register in UNDP’s eRecruit system. After your registration is complete, a personal account is created so that you may complete your personal information and apply to advertised job postings.\n",
    "Question: When registering, what should I use as my username? Answer: It is suggested that you should use a valid e-mail address as your username when registering in the UNDP’s eRecruit system.\n",
    "Question: What password format is accepted? Answer: UNDP encourages the use of strong passwords. Passwords should be a minimum of 8 characters in length and contain a combination of letters and numbers.\n",
    "Question: How can I change my password? Answer: Select the ‘Change Password’ option from the ‘Personal Information’ link after you have logged in to the system. Click on the ‘Forgot User Name or Password?’ link and follow the instructions to retrieve your forgotten password.\n",
    "Question: I have forgotten my password. What should I do? Answer: If you have forgotten your password, click on the link Forgot User ID or Password and complete one of the two options.\n",
    "Question: Will my data be secure? Answer: UNDP’s eRecruit data is stored on a private secure database and UNDP is the owner of the data. The system meets the UNDP's stringent security requirements.\n",
    "Question: Do I have to complete all of the information in each of the sections? Answer: All fields marked with an asterisk (*) are required information and must be completed for each section.\n",
    "Question: Do I need to complete all of the information in one session? Answer: You can save your application at any time during the application process and continue at a later time. When completing a section, we encourage that you use the save button regularly in order to ensure that your information is not lost.\n",
    "Question: How do I select dates using the calendar feature? Answer: Dates can be selected in two ways. You can either A) type the date directly in the field using the dd/mm/yyyy format or B) select the date by clicking on the calendar icon and choose the year month and day.\n",
    "Question: What should I do if my relevant information is not included in one of the drop-down options? Answer: You will be required to choose from the available drop-down options. Please choose the option that is the closest to your personal information, skills and experience.\n",
    "Question: How do I use the Look-up feature? Answer: To use the Look-up feature, click on the magnifying glass icon. After, type in either the full or partial value in the given field and click the button Look Up. Lastly, select the appropriate value from the search result.\n",
    "Question: Is there a spell check feature available? Answer: For various text description fields in each section, a spell click feature is available. To use the spell check feature, click on the dictionary icon to the left of the text field where available.\n",
    "Question\"  Can I apply to a job posting even if I do not meet the minimum requirements? Answer: You will not be able to apply to a job posting if your relevant education, work experience, language skills and possible other qualifications do not meet the minimum requirements specified in the job posting.\n",
    "Question:  Can I review my application before submission? Answer: Once you have clicked on the button submit my application, you will be able to review your full application details before the final submission. If you wish to modify any of the details displayed on the Application Preview page, you may do so by returning to the previous page.\n",
    "Question: How do submit my application? Answer: You will first need to complete all of the required information in the personal profile sections and answer the relevant job-related questions. After, you will be able to submit your application by clicking the button submit my application.\n",
    "Question: The deadline for submitting an application has expired. Can I still apply? Answer: It is essential to submit your application in the eRecruit system before midnight CET time of the job posting’s closing date. Regrettably, we are unable to accept late applications.\n",
    "Question: After I submit my application, will I receive a confirmation? Answer: After you have submitted your application online, you will receive an automated email confirming receipt of your application.\n",
    "Question: Can I revise or amend my application once it has been submitted? Answer: You are able to revise or amend any sections of your personal profile before the job posting’s closing date. Please note that the closing date of all UNDP job postings are effective midnight, CET time.\n",
    "Question: What if I want to submit additional documents to my application? Answer: UNDP does not require that you attach additional documents to your application. However, at any time during the recruitment process, you may be requested by a UNDP Recruitment Specialist to submit additional validating documents to your personal profile in support of your application. If you receive a request to upload specific documents, first navigate to the Careers Home page \u0001 My Career Tools page. Click on Applicant Attachments and add the relevant documents in the attachments section.\n",
    "Question: Can I apply for more than one job posting at the same time? Answer: You may apply to multiple UNDP job postings given that you meet the minimum requirements for each.\n",
    "Question: Is there a fee for submitting my application? Answer: UNDP does not charge any fee at any stage of the recruitment process whether at the application, interview, processing or training stage. UNDP does not require or need to know any information relating to the bank account details of applicants. Any such request should be rejected as these schemes are fraudulent.\n",
    "Question: How can I check on the status of my application? Answer: At all times, you may view the status of the vacancies you have applied. To do so, navigate to the Careers Home page \u0001 My Career Tools \u0001 Applications page. On the My Applications page, you will be able to view the Recruiting Status for each of your applications.\n",
    "\"\"\""
   ]
  },
  {
   "cell_type": "code",
   "execution_count": 10,
   "id": "4ec8935f-8175-484f-af96-52b80683d6c6",
   "metadata": {},
   "outputs": [
    {
     "name": "stdout",
     "output_type": "stream",
     "text": [
      "Yello:  what is UNDP\n"
     ]
    },
    {
     "name": "stdout",
     "output_type": "stream",
     "text": [
      "SS Assistant:  UNDP stands for the United Nations Development Programme. It is a global development organization that works in over 170 countries and territories to eradicate poverty, reduce inequalities, and promote sustainable development. UNDP focuses on areas such as poverty reduction, democratic governance, climate change, and crisis prevention and recovery.\n"
     ]
    },
    {
     "name": "stdout",
     "output_type": "stream",
     "text": [
      "Yello:  how many girls in this recruit system\n"
     ]
    },
    {
     "name": "stdout",
     "output_type": "stream",
     "text": [
      "SS Assistant:  AAhhHH! I don't know that.\n"
     ]
    },
    {
     "name": "stdout",
     "output_type": "stream",
     "text": [
      "Yello:  any Look-up feature?\n"
     ]
    },
    {
     "name": "stdout",
     "output_type": "stream",
     "text": [
      "SS Assistant:  Yes, there is a Look-up feature in UNDP's eRecruit system. It allows you to search for specific values or options by typing in a full or partial value and clicking the \"Look Up\" button. You can then select the appropriate value from the search results.\n"
     ]
    },
    {
     "name": "stdout",
     "output_type": "stream",
     "text": [
      "Yello:  quit\n"
     ]
    }
   ],
   "source": [
    "messages = [{\"role\":\"system\", \"content\": \"\"\"I want you to act as a support agent. Your name is \"My Super SS\". You will provide me with answers from the given info. If the answer is not included, say exactly \"AAhhHH! I don't know that.\" and stop after that. Refuse to answer any question not about the info. Never break character.\"\"\"}]\n",
    "messages.append({\"role\":\"assistant\",\"content\" : dataset})\n",
    "while True :\n",
    "    user_input = input(\"Yello: \")\n",
    "    if user_input == \"quit\" : \n",
    "        break;\n",
    "    messages.append({\"role\":\"user\" , \"content\": user_input})\n",
    "    response = client.chat.completions.create(\n",
    "        model=\"gpt-3.5-turbo-0613\",\n",
    "        messages= messages,\n",
    "        temperature=0,\n",
    "        max_tokens=100\n",
    "    )\n",
    "    messages.append({\"role\":\"assistant\", \"content\": response.choices[0].message.content})\n",
    "    print(\"SS Assistant: \",response.choices[0].message.content)"
   ]
  },
  {
   "cell_type": "code",
   "execution_count": null,
   "id": "22abf8c7-f80d-45e6-afe0-aae1c09f30e7",
   "metadata": {},
   "outputs": [],
   "source": []
  }
 ],
 "metadata": {
  "kernelspec": {
   "display_name": "Python 3 (ipykernel)",
   "language": "python",
   "name": "python3"
  },
  "language_info": {
   "codemirror_mode": {
    "name": "ipython",
    "version": 3
   },
   "file_extension": ".py",
   "mimetype": "text/x-python",
   "name": "python",
   "nbconvert_exporter": "python",
   "pygments_lexer": "ipython3",
   "version": "3.11.7"
  }
 },
 "nbformat": 4,
 "nbformat_minor": 5
}
